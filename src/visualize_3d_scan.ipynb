{
 "cells": [
  {
   "cell_type": "code",
   "execution_count": 472,
   "metadata": {},
   "outputs": [],
   "source": [
    "import pandas as pd"
   ]
  },
  {
   "cell_type": "code",
   "execution_count": 473,
   "metadata": {},
   "outputs": [
    {
     "name": "stdout",
     "output_type": "stream",
     "text": [
      "['0_0.csv', '0_37.csv', '0_57.csv', '0_78.csv', '0_98.csv', '10_18.csv', '10_38.csv', '10_57.csv', '10_78.csv', '10_98.csv', '11_18.csv', '11_38.csv', '11_57.csv', '11_78.csv', '11_98.csv', '12_18.csv', '12_38.csv', '12_57.csv', '12_78.csv', '12_98.csv', '13_18.csv', '13_38.csv', '13_57.csv', '13_78.csv', '13_98.csv', '14_18.csv', '14_38.csv', '14_57.csv', '14_78.csv', '14_98.csv', '15_18.csv', '15_38.csv', '15_57.csv', '15_78.csv', '15_98.csv', '16_18.csv', '16_37.csv', '16_57.csv', '16_77.csv', '16_97.csv', '17_18.csv', '17_37.csv', '17_57.csv', '17_77.csv', '17_97.csv', '18_18.csv', '18_37.csv', '18_57.csv', '18_77.csv', '18_97.csv', '19_18.csv', '19_37.csv', '19_57.csv', '19_9.csv', '1_18.csv', '1_37.csv', '1_58.csv', '1_77.csv', '1_98.csv', '20_1.csv', '20_3.csv', '20_5.csv', '20_7.csv', '20_9.csv', '21_1.csv', '21_3.csv', '21_5.csv', '21_7.csv', '21_77.csv', '21_97.csv', '22_18.csv', '22_5.csv', '22_7.csv', '22_9.csv', '23_1.csv', '23_3.csv', '23_5.csv', '23_7.csv', '23_9.csv', '24_1.csv', '24_3.csv', '24_5.csv', '24_7.csv', '24_9.csv', '25_1.csv', '25_3.csv', '25_5.csv', '25_7.csv', '2_18.csv', '2_38.csv', '2_58.csv', '2_78.csv', '2_98.csv', '3_18.csv', '3_38.csv', '3_58.csv', '3_78.csv', '3_98.csv', '4_18.csv', '4_38.csv', '4_58.csv', '4_78.csv', '4_98.csv', '5_18.csv', '5_38.csv', '5_58.csv', '5_78.csv', '5_98.csv', '6_18.csv', '6_38.csv', '6_58.csv', '6_78.csv', '6_98.csv', '7_18.csv', '7_38.csv', '7_58.csv', '7_78.csv', '7_98.csv', '8_18.csv', '8_38.csv', '8_57.csv', '8_78.csv', '8_98.csv', '9_18.csv', '9_38.csv', '9_57.csv', '9_78.csv', '9_98.csv']\n"
     ]
    }
   ],
   "source": [
    "import os\n",
    "\n",
    "\n",
    "dir_path = '3d_scan'\n",
    "\n",
    "directory = []\n",
    "\n",
    "for file_path in os.listdir(dir_path):\n",
    "    if os.path.isfile(os.path.join(dir_path, file_path)):\n",
    "        directory.append(file_path)\n",
    "print(directory)"
   ]
  },
  {
   "cell_type": "code",
   "execution_count": 474,
   "metadata": {},
   "outputs": [
    {
     "data": {
      "image/png": "[encoded data removed]",
      "text/plain": [
       "<Figure size 540x540 with 1 Axes>"
      ]
     },
     "metadata": {},
     "output_type": "display_data"
    }
   ],
   "source": [
    "\n",
    "from matplotlib import pyplot as plt\n",
    "import numpy as np\n",
    "\n",
    "\n",
    "data = pd.read_csv(dir_path + \"/\" +directory[-1],index_col=0)\n",
    "data = data.astype('complex')\n",
    "data = data.to_numpy()\n",
    "\n",
    "local_z = np.array(data.real, copy=True)\n",
    "\n",
    "fig = plt.figure(figsize=(6, 6), dpi=90)\n",
    "fig.tight_layout()\n",
    "axes = fig.add_subplot(111)\n",
    "axes.set_xlabel(\"X [mm]\")\n",
    "axes.set_ylabel(\"Y [mm]\")\n",
    "axes.grid()\n",
    "\n",
    "\n",
    "# if not np.isnan(local_z).all():\n",
    "#     z_mean = np.mean(local_z[~np.isnan(local_z)])\n",
    "#     local_z[np.isnan(local_z)] = z_mean\n",
    "\n",
    "im = axes.imshow(\n",
    "    local_z,\n",
    "    cmap=\"Wistia\",\n",
    "    vmin=np.min(local_z),\n",
    "    vmax=np.max(local_z),\n",
    "    # extent=[z.x_min, z.x_max, z.y_min, z.y_max],\n",
    "    interpolation=\"none\",\n",
    "    origin=\"lower\",\n",
    ") \n",
    "\n",
    "# axes.set_xlim([z.x_min, z.x_max])\n",
    "# axes.set_ylim([z.y_min, z.y_max])\n",
    "\n",
    "plt.show()"
   ]
  }
 ],
 "metadata": {
  "kernelspec": {
   "display_name": ".venv",
   "language": "python",
   "name": "python3"
  },
  "language_info": {
   "codemirror_mode": {
    "name": "ipython",
    "version": 3
   },
   "file_extension": ".py",
   "mimetype": "text/x-python",
   "name": "python",
   "nbconvert_exporter": "python",
   "pygments_lexer": "ipython3",
   "version": "3.11.1"
  }
 },
 "nbformat": 4,
 "nbformat_minor": 2
}
