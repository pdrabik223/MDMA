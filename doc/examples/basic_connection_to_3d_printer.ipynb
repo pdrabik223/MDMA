{
 "cells": [
  {
   "cell_type": "code",
   "execution_count": 2,
   "metadata": {},
   "outputs": [],
   "source": [
    "from serial import Serial, SerialException\n",
    "\n",
    "from typing import Optional\n",
    "\n",
    "import serial.tools.list_ports\n",
    "import time\n",
    "\n",
    "# from PrinterDevice import Device\n",
    "from serial import Serial, SerialException\n",
    "\n",
    "# from printer_device.PrinterDevice import PrinterDevice\n",
    "\n"
   ]
  },
  {
   "cell_type": "code",
   "execution_count": 1,
   "metadata": {},
   "outputs": [],
   "source": [
    "\n",
    "def connect():\n",
    "    baudrate: int = 115200\n",
    "    timeout: int = 1\n",
    "    device: Optional[Serial] = None\n",
    "    available_ports = serial.tools.list_ports.comports()\n",
    "\n",
    "    for port, desc, hwid in sorted(available_ports):\n",
    "        print(f\"Scanning port: '{port}', desc: '{desc}', hwid: '{hwid}\")\n",
    "        \n",
    "        try:\n",
    "            device: Serial = Serial(port=str(port), baudrate=baudrate, timeout=timeout)\n",
    "            print(\"Serial port is Open'\")\n",
    "\n",
    "            resp = device.readline().decode(\"utf-8\")\n",
    "            print(f\"Answer: '{resp}'\")\n",
    "\n",
    "            if \"Serial port is Open\" in resp:\n",
    "                print(f\"Connected on port: '{port}', desc: '{desc}', hwid: '{hwid}\")\n",
    "                return device\n",
    "\n",
    "        except SerialException:\n",
    "            continue\n",
    "\n"
   ]
  },
  {
   "cell_type": "code",
   "execution_count": null,
   "metadata": {},
   "outputs": [],
   "source": []
  },
  {
   "cell_type": "code",
   "execution_count": 25,
   "metadata": {},
   "outputs": [],
   "source": [
    "\n",
    "def send_and_await(device,command):\n",
    "    device.write(bytearray(command, \"utf-8\"))\n",
    "    device.write(bytearray(\"M114\\n\", \"utf-8\"))\n",
    "    resp = \"\"\n",
    "    retries = 30\n",
    "    while \"Count \" not in resp:\n",
    "        resp = str(device.readline().decode(\"utf-8\"))\n",
    "        print(resp.strip())\n",
    "        \n",
    "        retries -= 1\n",
    "        if retries <= 0:\n",
    "            return \"none message\"     \n",
    "        else:\n",
    "            time.sleep(0.1)  # import time       "
   ]
  },
  {
   "cell_type": "code",
   "execution_count": 26,
   "metadata": {},
   "outputs": [],
   "source": [
    "\n",
    "\n",
    "prusa_mk3s = Serial(port=str(\"COM9\"), baudrate=115200, timeout=1)\n"
   ]
  },
  {
   "cell_type": "code",
   "execution_count": 29,
   "metadata": {},
   "outputs": [
    {
     "name": "stdout",
     "output_type": "stream",
     "text": [
      "ok\n",
      "MMU not responding - DISABLED\n",
      "tmc2130_home_enter(axes_mask=0x01)\n",
      "0 step=30 mscnt= 480\n",
      "tmc2130_goto_step 0 13 2 1000\n",
      "tmc2130_home_exit tmc2130_sg_homing_axes_mask=0x01\n",
      "tmc2130_home_enter(axes_mask=0x02)\n",
      "0 step=18 mscnt= 291\n",
      "tmc2130_goto_step 1 49 2 1000\n",
      "tmc2130_home_exit tmc2130_sg_homing_axes_mask=0x02\n",
      "echo:busy: processing\n",
      "\n",
      "\n",
      "echo:busy: processing\n",
      "\n",
      "\n",
      "echo:busy: processing\n",
      "\n",
      "\n",
      "echo:busy: processing\n",
      "\n",
      "\n",
      "echo:busy: processing\n",
      "\n",
      "\n",
      "echo:busy: processing\n",
      "\n",
      "\n",
      "echo:busy: processing\n",
      "\n"
     ]
    },
    {
     "data": {
      "text/plain": [
       "'none message'"
      ]
     },
     "execution_count": 29,
     "metadata": {},
     "output_type": "execute_result"
    }
   ],
   "source": [
    "send_and_await(prusa_mk3s, \"G28\\n\")"
   ]
  },
  {
   "cell_type": "code",
   "execution_count": 30,
   "metadata": {},
   "outputs": [
    {
     "name": "stdout",
     "output_type": "stream",
     "text": [
      "echo:busy: processing\n",
      "echo:busy: processing\n",
      "echo:busy: processing\n",
      "LCD status changed\n",
      "ok\n",
      "X:0.20 Y:-3.80 Z:0.15 E:0.00 Count X: 0.92 Y:-3.42 Z:0.34 E:0.00\n"
     ]
    },
    {
     "ename": "",
     "evalue": "",
     "output_type": "error",
     "traceback": [
      "\u001b[1;31mThe Kernel crashed while executing code in the the current cell or a previous cell. Please review the code in the cell(s) to identify a possible cause of the failure. Click <a href='https://aka.ms/vscodeJupyterKernelCrash'>here</a> for more info. View Jupyter <a href='command:jupyter.viewOutput'>log</a> for further details."
     ]
    }
   ],
   "source": [
    "send_and_await(prusa_mk3s, \"G1 X100 Y100 Z100\\n\")\n"
   ]
  },
  {
   "cell_type": "code",
   "execution_count": 24,
   "metadata": {},
   "outputs": [],
   "source": [
    "prusa_mk3s.close()"
   ]
  }
 ],
 "metadata": {
  "kernelspec": {
   "display_name": ".venv",
   "language": "python",
   "name": "python3"
  },
  "language_info": {
   "codemirror_mode": {
    "name": "ipython",
    "version": 3
   },
   "file_extension": ".py",
   "mimetype": "text/x-python",
   "name": "python",
   "nbconvert_exporter": "python",
   "pygments_lexer": "ipython3",
   "version": "3.11.1"
  }
 },
 "nbformat": 4,
 "nbformat_minor": 2
}
