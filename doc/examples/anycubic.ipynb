{
 "cells": [
  {
   "cell_type": "code",
   "execution_count": 1,
   "metadata": {},
   "outputs": [],
   "source": [
    "import logging\n",
    "import time\n",
    "from typing import Optional, Tuple\n",
    "\n",
    "import serial.tools.list_ports\n",
    "from serial import Serial, SerialException\n"
   ]
  },
  {
   "cell_type": "code",
   "execution_count": 2,
   "metadata": {},
   "outputs": [],
   "source": [
    "line_counter = 1"
   ]
  },
  {
   "cell_type": "code",
   "execution_count": 3,
   "metadata": {},
   "outputs": [],
   "source": []
  },
  {
   "cell_type": "code",
   "execution_count": 4,
   "metadata": {},
   "outputs": [],
   "source": [
    "def connect(port):\n",
    "    baudrate: int = 250000\n",
    "    timeout: int = 1\n",
    "    device: Serial = Serial(port=str(port), baudrate=baudrate, timeout=timeout)\n",
    "\n",
    "    resp = \"start\"\n",
    "\n",
    "    while resp != \"\":\n",
    "        resp = device.readline().decode(\"utf-8\")\n",
    "        if resp != \"\":\n",
    "            print(resp.strip())\n",
    "        else:\n",
    "            break\n",
    "        time.sleep(0.5)\n",
    "    return device\n",
    "\n",
    "\n",
    "def send(device, command: str, timeout: float = 60.0) -> Tuple[bool, str]:\n",
    "    \"\"\"\n",
    "    \n",
    "\n",
    "    Args:\n",
    "        device (_type_): _description_\n",
    "        command (str): _description_\n",
    "        timeout (float, optional): timeout in seconds. Defaults to 60.0.\n",
    "    Returns:\n",
    "        Tuple[bool, str]: _description_\n",
    "    \"\"\"\n",
    "    command = no_line(command)\n",
    "    command = cs_line(command)\n",
    "\n",
    "    if command[-1] != \"\\n\":\n",
    "        command += \"\\n\"\n",
    "\n",
    "    print(f\"req:  {command}\")\n",
    "    device.write(bytearray(command, \"ascii\"))\n",
    "\n",
    "    # wait for 'ok' response\n",
    "\n",
    "    resp = []\n",
    "    for i in range(60):\n",
    "        time.sleep(0.2)\n",
    "        resp.append(device.readline().decode(\"utf-8\").strip())\n",
    "\n",
    "        if len(resp) != 0:\n",
    "            print(f\"\\r{i} resp:\\t'{resp}'\")\n",
    "\n",
    "        if resp[-1] == \"ok\\n\":\n",
    "            return True, resp\n",
    "\n",
    "    return False, \"\"\n",
    "\n",
    "\n",
    "def send_and_await(device, command: str):\n",
    "    \"\"\"\n",
    "    send command to Anycubic S device, then await response\n",
    "\n",
    "    Args:\n",
    "        command (str): g-code command\n",
    "\n",
    "    Returns:\n",
    "        str: response from device\n",
    "    \"\"\"\n",
    "\n",
    "    command = no_line(command)\n",
    "    command = cs_line(command)\n",
    "\n",
    "    if command[-1] != \"\\n\":\n",
    "        command += \"\\n\"\n",
    "\n",
    "    print(f\"req:  {command}\")\n",
    "    device.write(bytearray(command, \"ascii\"))\n",
    "\n",
    "    # wait for 'ok' response\n",
    "\n",
    "    for i in range(60):\n",
    "        time.sleep(1)\n",
    "        resp = device.readline().decode(\"utf-8\")\n",
    "        if len(resp) != 0:\n",
    "            print(f\"\\r{i} resp:\\t'{resp}'\")\n",
    "        if resp == \"ok\\n\":\n",
    "            break\n",
    "\n",
    "    # wait for completion of sended command\n",
    "\n",
    "    command = no_line(\"M400\")\n",
    "    command = cs_line(command)\n",
    "\n",
    "    if command[-1] != \"\\n\":\n",
    "        command += \"\\n\"\n",
    "\n",
    "    print(\"await for M400\")\n",
    "    device.write(bytearray(command, \"ascii\"))\n",
    "\n",
    "    # wait for 'ok' response after sending M400\n",
    "\n",
    "    for i in range(60):\n",
    "        time.sleep(1)\n",
    "        resp = device.readline().decode(\"utf-8\")\n",
    "        if len(resp) != 0:\n",
    "            print(f\"\\r{i} resp:\\t'{resp}'\")\n",
    "        if resp == \"ok\\n\":\n",
    "            break\n"
   ]
  },
  {
   "cell_type": "code",
   "execution_count": 5,
   "metadata": {},
   "outputs": [
    {
     "name": "stdout",
     "output_type": "stream",
     "text": [
      "List all available ports:\n",
      "\t port: 'COM5', desc: 'Silicon Labs CP210x USB to UART Bridge (COM5)', hwid: 'USB VID:PID=10C4:EA60 SER=0001 LOCATION=1-6.4.2\n"
     ]
    }
   ],
   "source": [
    "list_ports()"
   ]
  },
  {
   "cell_type": "code",
   "execution_count": 6,
   "metadata": {},
   "outputs": [
    {
     "name": "stdout",
     "output_type": "stream",
     "text": [
      "start\n",
      "echo:V1.1.4\n",
      "1.1.0-RC8\n",
      "\n",
      "echo: Last Updated: 2016-12-06 12:00 | Author: (Jolly, xxxxxxxx.CO.)\n",
      "Compiled: Apr  7 2020\n",
      "echo: Free Memory: 3109  PlannerBufferBytes: 1168\n",
      "echo:Hardcoded Default Settings Loaded\n",
      "echo:Steps per unit:\n",
      "echo:  M92 X80.00 Y80.00 Z400.00 E384.00\n",
      "echo:Maximum feedrates (mm/s):\n",
      "echo:  M203 X500.00 Y500.00 Z8.00 E60.00\n",
      "echo:Maximum Acceleration (mm/s2):\n",
      "echo:  M201 X3000 Y2000 Z60 E10000\n",
      "echo:Accelerations: P=printing, R=retract and T=travel\n",
      "echo:  M204 P3000.00 R3000.00 T3000.00\n",
      "echo:Advanced variables: S=Min feedrate (mm/s), T=Min travel feedrate (mm/s), B=minimum segment time (ms), X=maximum XY jerk (mm/s),  Z=maximum Z jerk (mm/s),  E=maximum E jerk (mm/s)\n",
      "echo:  M205 S0.00 T0.00 B20000 X10.00 Y10.00 Z0.40 E5.00\n",
      "echo:Home offset (mm)\n",
      "echo:  M206 X0.00 Y0.00 Z0.00\n",
      "echo:Z2 Endstop adjustment (mm):\n",
      "echo:  M666 Z0.00\n",
      "echo:Material heatup parameters:\n",
      "echo:  M145 S0 H180 B70 F0\n",
      "M145 S1 H240 B110 F0\n",
      "echo:PID settings:\n",
      "echo:  M301 P15.00 I0.95 D65.00\n",
      "echo:Filament settings: Disabled\n",
      "echo:  M200 D1.75\n",
      "echo:  M200 D0\n",
      "echo:SD card ok\n",
      "echo:SD card ok\n"
     ]
    }
   ],
   "source": [
    "device = connect(\"COM5\")\n"
   ]
  },
  {
   "cell_type": "code",
   "execution_count": 7,
   "metadata": {},
   "outputs": [
    {
     "name": "stdout",
     "output_type": "stream",
     "text": [
      "req:  N1 G28 N1*77\n",
      "\n",
      "12 resp:\t'X:-5.00 Y:0.00 Z:0.00 E:0.00 Count X: -400 Y:0 Z:0\n",
      "'\n",
      "13 resp:\t'ok\n",
      "'\n",
      "await for M400\n",
      "0 resp:\t'ok\n",
      "'\n",
      "req:  N3 G1 X0 Y0 Z0 N3*61\n",
      "\n",
      "0 resp:\t'ok\n",
      "'\n",
      "await for M400\n",
      "0 resp:\t'ok\n",
      "'\n",
      "req:  N5 G1 X100 Y100 Z100 N5*60\n",
      "\n",
      "0 resp:\t'ok\n",
      "'\n",
      "await for M400\n",
      "5 resp:\t'ok\n",
      "'\n"
     ]
    }
   ],
   "source": [
    "send_and_await(device, \"G28\")\n",
    "send_and_await(device, \"G1 X0 Y0 Z0\")\n",
    "send_and_await(device, \"G1 X100 Y100 Z100\")\n"
   ]
  },
  {
   "cell_type": "code",
   "execution_count": 8,
   "metadata": {},
   "outputs": [],
   "source": [
    "device.close()"
   ]
  }
 ],
 "metadata": {
  "kernelspec": {
   "display_name": ".venv",
   "language": "python",
   "name": "python3"
  },
  "language_info": {
   "codemirror_mode": {
    "name": "ipython",
    "version": 3
   },
   "file_extension": ".py",
   "mimetype": "text/x-python",
   "name": "python",
   "nbconvert_exporter": "python",
   "pygments_lexer": "ipython3",
   "version": "3.11.1"
  },
  "orig_nbformat": 4
 },
 "nbformat": 4,
 "nbformat_minor": 2
}
